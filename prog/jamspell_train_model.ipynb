{
  "nbformat": 4,
  "nbformat_minor": 0,
  "metadata": {
    "colab": {
      "provenance": []
    },
    "kernelspec": {
      "name": "python3",
      "display_name": "Python 3"
    },
    "language_info": {
      "name": "python"
    }
  },
  "cells": [
    {
      "cell_type": "code",
      "execution_count": null,
      "metadata": {
        "colab": {
          "base_uri": "https://localhost:8080/"
        },
        "id": "jYI7f6NHklut",
        "outputId": "b32ecb85-21aa-4606-d78e-cd420ac92274"
      },
      "outputs": [
        {
          "output_type": "stream",
          "name": "stdout",
          "text": [
            "Reading package lists... Done\n",
            "Building dependency tree... Done\n",
            "Reading state information... Done\n",
            "Suggested packages:\n",
            "  swig3.0-examples swig3.0-doc\n",
            "The following NEW packages will be installed:\n",
            "  swig3.0\n",
            "0 upgraded, 1 newly installed, 0 to remove and 32 not upgraded.\n",
            "Need to get 1,109 kB of archives.\n",
            "After this operation, 5,555 kB of additional disk space will be used.\n",
            "Get:1 http://archive.ubuntu.com/ubuntu jammy/universe amd64 swig3.0 amd64 3.0.12-2.2ubuntu1 [1,109 kB]\n",
            "Fetched 1,109 kB in 0s (3,030 kB/s)\n",
            "debconf: unable to initialize frontend: Dialog\n",
            "debconf: (No usable dialog-like program is installed, so the dialog based frontend cannot be used. at /usr/share/perl5/Debconf/FrontEnd/Dialog.pm line 78, <> line 1.)\n",
            "debconf: falling back to frontend: Readline\n",
            "debconf: unable to initialize frontend: Readline\n",
            "debconf: (This frontend requires a controlling tty.)\n",
            "debconf: falling back to frontend: Teletype\n",
            "dpkg-preconfigure: unable to re-open stdin: \n",
            "Selecting previously unselected package swig3.0.\n",
            "(Reading database ... 121747 files and directories currently installed.)\n",
            "Preparing to unpack .../swig3.0_3.0.12-2.2ubuntu1_amd64.deb ...\n",
            "Unpacking swig3.0 (3.0.12-2.2ubuntu1) ...\n",
            "Setting up swig3.0 (3.0.12-2.2ubuntu1) ...\n",
            "Processing triggers for man-db (2.10.2-1) ...\n"
          ]
        }
      ],
      "source": [
        "!sudo apt-get install swig3.0"
      ]
    },
    {
      "cell_type": "code",
      "source": [
        "!sudo pip install jamspell"
      ],
      "metadata": {
        "colab": {
          "base_uri": "https://localhost:8080/"
        },
        "id": "OWgnHH7kkoYx",
        "outputId": "c1513dfc-46e1-49fd-a60b-4caf185d5ff5"
      },
      "execution_count": null,
      "outputs": [
        {
          "output_type": "stream",
          "name": "stdout",
          "text": [
            "Collecting jamspell\n",
            "  Downloading jamspell-0.0.12.tar.gz (174 kB)\n",
            "\u001b[2K     \u001b[90m━━━━━━━━━━━━━━━━━━━━━━━━━━━━━━━━━━━━━━━\u001b[0m \u001b[32m174.3/174.3 kB\u001b[0m \u001b[31m3.7 MB/s\u001b[0m eta \u001b[36m0:00:00\u001b[0m\n",
            "\u001b[?25h  Preparing metadata (setup.py) ... \u001b[?25l\u001b[?25hdone\n",
            "Building wheels for collected packages: jamspell\n",
            "  Building wheel for jamspell (setup.py) ... \u001b[?25l\u001b[?25hdone\n",
            "  Created wheel for jamspell: filename=jamspell-0.0.12-cp310-cp310-linux_x86_64.whl size=1782253 sha256=b0c35ced24b0b16de761da55423f79a479edcece9d0654f73e3d2c1945895a37\n",
            "  Stored in directory: /root/.cache/pip/wheels/95/af/d3/fb57122fda2851ad5972ce80640001c568dcffdf16bc9ddb17\n",
            "Successfully built jamspell\n",
            "Installing collected packages: jamspell\n",
            "Successfully installed jamspell-0.0.12\n"
          ]
        }
      ]
    },
    {
      "cell_type": "code",
      "source": [
        "!apt update"
      ],
      "metadata": {
        "colab": {
          "base_uri": "https://localhost:8080/"
        },
        "id": "8gX_ZWCXkrMd",
        "outputId": "339e9b98-7df9-4e89-8f0e-c57876c2f1c4"
      },
      "execution_count": null,
      "outputs": [
        {
          "output_type": "stream",
          "name": "stdout",
          "text": [
            "\u001b[33m\r0% [Working]\u001b[0m\r            \rGet:1 http://security.ubuntu.com/ubuntu jammy-security InRelease [110 kB]\n",
            "\u001b[33m\r0% [Connecting to archive.ubuntu.com] [1 InRelease 12.7 kB/110 kB 12%] [Connected to cloud.r-project\u001b[0m\r                                                                                                    \rGet:2 https://cloud.r-project.org/bin/linux/ubuntu jammy-cran40/ InRelease [3,626 B]\n",
            "\u001b[33m\r0% [Waiting for headers] [1 InRelease 63.4 kB/110 kB 57%] [2 InRelease 0 B/3,626 B 0%] [Connected to\u001b[0m\u001b[33m\r0% [Waiting for headers] [1 InRelease 95.3 kB/110 kB 86%] [Connected to ppa.launchpadcontent.net (18\u001b[0m\r                                                                                                    \rGet:3 https://developer.download.nvidia.com/compute/cuda/repos/ubuntu2204/x86_64  InRelease [1,581 B]\n",
            "\u001b[33m\r0% [Waiting for headers] [1 InRelease 95.3 kB/110 kB 86%] [Connected to ppa.launchpadcontent.net (18\u001b[0m\u001b[33m\r                                                                                                    \r0% [Waiting for headers] [Connected to ppa.launchpadcontent.net (185.125.190.80)]\u001b[0m\r                                                                                 \rHit:4 http://archive.ubuntu.com/ubuntu jammy InRelease\n",
            "Get:5 http://archive.ubuntu.com/ubuntu jammy-updates InRelease [119 kB]\n",
            "Hit:6 http://archive.ubuntu.com/ubuntu jammy-backports InRelease\n",
            "Get:7 https://developer.download.nvidia.com/compute/cuda/repos/ubuntu2204/x86_64  Packages [668 kB]\n",
            "Get:8 https://ppa.launchpadcontent.net/c2d4u.team/c2d4u4.0+/ubuntu jammy InRelease [18.1 kB]\n",
            "Get:9 http://security.ubuntu.com/ubuntu jammy-security/main amd64 Packages [1,399 kB]\n",
            "Hit:10 https://ppa.launchpadcontent.net/deadsnakes/ppa/ubuntu jammy InRelease\n",
            "Hit:11 https://ppa.launchpadcontent.net/graphics-drivers/ppa/ubuntu jammy InRelease\n",
            "Get:12 http://security.ubuntu.com/ubuntu jammy-security/universe amd64 Packages [1,064 kB]\n",
            "Hit:13 https://ppa.launchpadcontent.net/ubuntugis/ppa/ubuntu jammy InRelease\n",
            "Get:14 http://archive.ubuntu.com/ubuntu jammy-updates/universe amd64 Packages [1,334 kB]\n",
            "Get:15 http://archive.ubuntu.com/ubuntu jammy-updates/main amd64 Packages [1,680 kB]\n",
            "Get:16 http://archive.ubuntu.com/ubuntu jammy-updates/restricted amd64 Packages [1,728 kB]\n",
            "Get:17 https://ppa.launchpadcontent.net/c2d4u.team/c2d4u4.0+/ubuntu jammy/main Sources [2,268 kB]\n",
            "Get:18 https://ppa.launchpadcontent.net/c2d4u.team/c2d4u4.0+/ubuntu jammy/main amd64 Packages [1,164 kB]\n",
            "Fetched 11.6 MB in 6s (2,094 kB/s)\n",
            "Reading package lists... Done\n",
            "Building dependency tree... Done\n",
            "Reading state information... Done\n",
            "34 packages can be upgraded. Run 'apt list --upgradable' to see them.\n"
          ]
        }
      ]
    },
    {
      "cell_type": "code",
      "source": [
        "!apt install -y cmake"
      ],
      "metadata": {
        "colab": {
          "base_uri": "https://localhost:8080/"
        },
        "id": "RDHtprfZktPb",
        "outputId": "c02a9c18-57b0-4392-81ed-8cb101e2a56e"
      },
      "execution_count": null,
      "outputs": [
        {
          "output_type": "stream",
          "name": "stdout",
          "text": [
            "Reading package lists... Done\n",
            "Building dependency tree... Done\n",
            "Reading state information... Done\n",
            "cmake is already the newest version (3.22.1-1ubuntu1.22.04.1).\n",
            "0 upgraded, 0 newly installed, 0 to remove and 34 not upgraded.\n"
          ]
        }
      ]
    },
    {
      "cell_type": "code",
      "source": [
        "!git clone https://github.com/bakwc/JamSpell.git"
      ],
      "metadata": {
        "colab": {
          "base_uri": "https://localhost:8080/"
        },
        "id": "yFKAbp8akxOT",
        "outputId": "c1c1e586-9a49-4b25-b355-92cbcfd84929"
      },
      "execution_count": null,
      "outputs": [
        {
          "output_type": "stream",
          "name": "stdout",
          "text": [
            "Cloning into 'JamSpell'...\n",
            "remote: Enumerating objects: 1190, done.\u001b[K\n",
            "remote: Counting objects: 100% (73/73), done.\u001b[K\n",
            "remote: Compressing objects: 100% (41/41), done.\u001b[K\n",
            "remote: Total 1190 (delta 26), reused 51 (delta 22), pack-reused 1117\u001b[K\n",
            "Receiving objects: 100% (1190/1190), 722.11 KiB | 9.89 MiB/s, done.\n",
            "Resolving deltas: 100% (731/731), done.\n"
          ]
        }
      ]
    },
    {
      "cell_type": "code",
      "source": [
        "cd JamSpell"
      ],
      "metadata": {
        "colab": {
          "base_uri": "https://localhost:8080/"
        },
        "id": "My1u989rkzW3",
        "outputId": "66ad0cc6-c41c-4b1e-982b-7e8211517ad1"
      },
      "execution_count": null,
      "outputs": [
        {
          "output_type": "stream",
          "name": "stdout",
          "text": [
            "/content/JamSpell\n"
          ]
        }
      ]
    },
    {
      "cell_type": "code",
      "source": [
        "mkdir build"
      ],
      "metadata": {
        "id": "n9ylNQjSk1rj"
      },
      "execution_count": null,
      "outputs": []
    },
    {
      "cell_type": "code",
      "source": [
        "cd build"
      ],
      "metadata": {
        "colab": {
          "base_uri": "https://localhost:8080/"
        },
        "id": "dEOPqlAuk3uQ",
        "outputId": "1873396e-4b3b-4a20-e24e-b01b0340cb5d"
      },
      "execution_count": null,
      "outputs": [
        {
          "output_type": "stream",
          "name": "stdout",
          "text": [
            "/content/JamSpell/build\n"
          ]
        }
      ]
    },
    {
      "cell_type": "code",
      "source": [
        "!cmake .."
      ],
      "metadata": {
        "colab": {
          "base_uri": "https://localhost:8080/"
        },
        "id": "GBcA7-aok5mY",
        "outputId": "47a6f9a3-ff43-48ba-ccd4-9f4c14e145e5"
      },
      "execution_count": null,
      "outputs": [
        {
          "output_type": "stream",
          "name": "stdout",
          "text": [
            "-- The C compiler identification is GNU 11.4.0\n",
            "-- The CXX compiler identification is GNU 11.4.0\n",
            "-- Detecting C compiler ABI info\n",
            "-- Detecting C compiler ABI info - done\n",
            "-- Check for working C compiler: /usr/bin/cc - skipped\n",
            "-- Detecting C compile features\n",
            "-- Detecting C compile features - done\n",
            "-- Detecting CXX compiler ABI info\n",
            "-- Detecting CXX compiler ABI info - done\n",
            "-- Check for working CXX compiler: /usr/bin/c++ - skipped\n",
            "-- Detecting CXX compile features\n",
            "-- Detecting CXX compile features - done\n",
            "-- Could NOT find GTest (missing: GTEST_LIBRARY GTEST_INCLUDE_DIR GTEST_MAIN_LIBRARY) \n",
            "-- Performing Test CMAKE_HAVE_LIBC_PTHREAD\n",
            "-- Performing Test CMAKE_HAVE_LIBC_PTHREAD - Success\n",
            "-- Found Threads: TRUE  \n",
            "-- Configuring done (0.9s)\n",
            "-- Generating done (0.0s)\n",
            "-- Build files have been written to: /content/JamSpell/build\n"
          ]
        }
      ]
    },
    {
      "cell_type": "code",
      "source": [
        "!make"
      ],
      "metadata": {
        "colab": {
          "base_uri": "https://localhost:8080/"
        },
        "id": "0p-kSpXEk7_G",
        "outputId": "163e518b-7e09-4712-dda9-ffdf2203d110"
      },
      "execution_count": null,
      "outputs": [
        {
          "output_type": "stream",
          "name": "stdout",
          "text": [
            "[  4%] \u001b[32mBuilding CXX object contrib/cityhash/CMakeFiles/cityhash.dir/city.cc.o\u001b[0m\n",
            "[  8%] \u001b[32m\u001b[1mLinking CXX static library libcityhash.a\u001b[0m\n",
            "[  8%] Built target cityhash\n",
            "[ 12%] \u001b[32mBuilding CXX object contrib/phf/CMakeFiles/phf.dir/phf.cc.o\u001b[0m\n",
            "[ 16%] \u001b[32m\u001b[1mLinking CXX static library libphf.a\u001b[0m\n",
            "[ 16%] Built target phf\n",
            "[ 20%] \u001b[32mBuilding CXX object jamspell/CMakeFiles/jamspell_lib.dir/spell_corrector.cpp.o\u001b[0m\n",
            "[ 25%] \u001b[32mBuilding CXX object jamspell/CMakeFiles/jamspell_lib.dir/lang_model.cpp.o\u001b[0m\n",
            "[ 29%] \u001b[32mBuilding CXX object jamspell/CMakeFiles/jamspell_lib.dir/utils.cpp.o\u001b[0m\n",
            "[ 33%] \u001b[32mBuilding CXX object jamspell/CMakeFiles/jamspell_lib.dir/perfect_hash.cpp.o\u001b[0m\n",
            "[ 37%] \u001b[32mBuilding CXX object jamspell/CMakeFiles/jamspell_lib.dir/bloom_filter.cpp.o\u001b[0m\n",
            "[ 41%] \u001b[32m\u001b[1mLinking CXX static library libjamspell_lib.a\u001b[0m\n",
            "[ 41%] Built target jamspell_lib\n",
            "[ 45%] \u001b[32mBuilding CXX object main/CMakeFiles/jamspell.dir/main.cpp.o\u001b[0m\n",
            "[ 50%] \u001b[32m\u001b[1mLinking CXX executable jamspell\u001b[0m\n",
            "[ 50%] Built target jamspell\n",
            "[ 54%] \u001b[32mBuilding CXX object contrib/handypack/CMakeFiles/handypack.dir/handypack.cpp.o\u001b[0m\n",
            "[ 58%] \u001b[32m\u001b[1mLinking CXX static library libhandypack.a\u001b[0m\n",
            "[ 58%] Built target handypack\n",
            "[ 62%] \u001b[32mBuilding CXX object contrib/bloom/CMakeFiles/bloom.dir/bloom_filter.cpp.o\u001b[0m\n",
            "[ 66%] \u001b[32m\u001b[1mLinking CXX static library libbloom.a\u001b[0m\n",
            "[ 66%] Built target bloom\n",
            "[ 70%] \u001b[32mBuilding CXX object contrib/tsl/CMakeFiles/tsl.dir/robin_map.cpp.o\u001b[0m\n",
            "[ 75%] \u001b[32m\u001b[1mLinking CXX static library libtsl.a\u001b[0m\n",
            "[ 75%] Built target tsl\n",
            "[ 79%] \u001b[32mBuilding CXX object contrib/httplib/CMakeFiles/httplib.dir/httplib.cpp.o\u001b[0m\n",
            "[ 83%] \u001b[32m\u001b[1mLinking CXX static library libhttplib.a\u001b[0m\n",
            "[ 83%] Built target httplib\n",
            "[ 87%] \u001b[32mBuilding CXX object contrib/nlohmann/CMakeFiles/nlohmann_json.dir/json.cpp.o\u001b[0m\n",
            "[ 91%] \u001b[32m\u001b[1mLinking CXX static library libnlohmann_json.a\u001b[0m\n",
            "[ 91%] Built target nlohmann_json\n",
            "[ 95%] \u001b[32mBuilding CXX object web_server/CMakeFiles/web_server.dir/main.cpp.o\u001b[0m\n",
            "[100%] \u001b[32m\u001b[1mLinking CXX executable web_server\u001b[0m\n",
            "[100%] Built target web_server\n"
          ]
        }
      ]
    },
    {
      "cell_type": "code",
      "source": [
        "#généré avec le fichier alphabet_fr.txt et 40% du corpus ELTeC français sans les 10 textes sélectionnés\n",
        "!./main/jamspell train ../test_data_ELTeC/alphabet_fr.txt ../test_data_ELTeC/DATA_ELTeC-Fr.txt ELTeCfr.bin\n"
      ],
      "metadata": {
        "colab": {
          "base_uri": "https://localhost:8080/"
        },
        "id": "zqAGnP8YsCHy",
        "outputId": "dcf146bd-b714-4a23-9fef-b5f7b3e25402"
      },
      "execution_count": null,
      "outputs": [
        {
          "output_type": "stream",
          "name": "stdout",
          "text": [
            "[info] loading text\n",
            "[info] generating N-grams 322433\n",
            "[info] generating keys\n",
            "[info] ngrams1: 770813\n",
            "[info] ngrams2: 932812\n",
            "[info] ngrams3: 776914\n",
            "[info] total: 2480539\n",
            "[info] generating perf hash\n",
            "[info] finished, buckets: 3100697\n",
            "[info] buckets filled\n"
          ]
        }
      ]
    },
    {
      "cell_type": "code",
      "source": [
        "!python ../evaluate/evaluate.py -a \"../test_data_ELTeC/alphabet_fr.txt\" -jsp \"../ELTeCfr.bin\" -mx 50000 \"../test_data_ELTeC/FRA02001_Gilbert.txt\""
      ],
      "metadata": {
        "colab": {
          "base_uri": "https://localhost:8080/"
        },
        "id": "c1lA6soMsKNi",
        "outputId": "c7dfba7b-7306-4a65-dcd7-25fe290510bc"
      },
      "execution_count": null,
      "outputs": [
        {
          "output_type": "stream",
          "name": "stdout",
          "text": [
            "[info] loading models\n",
            "^C\n"
          ]
        }
      ]
    },
    {
      "cell_type": "markdown",
      "source": [],
      "metadata": {
        "id": "-Ahlqc1zzu4B"
      }
    }
  ]
}